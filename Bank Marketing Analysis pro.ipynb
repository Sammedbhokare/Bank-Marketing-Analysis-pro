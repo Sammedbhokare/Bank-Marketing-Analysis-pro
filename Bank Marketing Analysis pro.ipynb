{
 "cells": [
  {
   "cell_type": "code",
   "execution_count": 1,
   "id": "88f59f1f",
   "metadata": {},
   "outputs": [],
   "source": [
    "import numpy as np\n",
    "import pandas as pd\n",
    "import matplotlib.pyplot as plt\n",
    "import seaborn as sns"
   ]
  },
  {
   "cell_type": "code",
   "execution_count": 2,
   "id": "ba90dee7",
   "metadata": {},
   "outputs": [
    {
     "data": {
      "text/html": [
       "<div>\n",
       "<style scoped>\n",
       "    .dataframe tbody tr th:only-of-type {\n",
       "        vertical-align: middle;\n",
       "    }\n",
       "\n",
       "    .dataframe tbody tr th {\n",
       "        vertical-align: top;\n",
       "    }\n",
       "\n",
       "    .dataframe thead th {\n",
       "        text-align: right;\n",
       "    }\n",
       "</style>\n",
       "<table border=\"1\" class=\"dataframe\">\n",
       "  <thead>\n",
       "    <tr style=\"text-align: right;\">\n",
       "      <th></th>\n",
       "      <th>Age</th>\n",
       "      <th>Job</th>\n",
       "      <th>Marital Status</th>\n",
       "      <th>Education</th>\n",
       "      <th>Credit</th>\n",
       "      <th>Balance (euros)</th>\n",
       "      <th>Housing Loan</th>\n",
       "      <th>Personal Loan</th>\n",
       "      <th>Contact</th>\n",
       "      <th>Last Contact Day</th>\n",
       "      <th>Last Contact Month</th>\n",
       "      <th>Last Contact Duration</th>\n",
       "      <th>Campaign</th>\n",
       "      <th>Pdays</th>\n",
       "      <th>Previous</th>\n",
       "      <th>Poutcome</th>\n",
       "      <th>Subscription</th>\n",
       "    </tr>\n",
       "  </thead>\n",
       "  <tbody>\n",
       "    <tr>\n",
       "      <th>0</th>\n",
       "      <td>58</td>\n",
       "      <td>management</td>\n",
       "      <td>married</td>\n",
       "      <td>tertiary</td>\n",
       "      <td>no</td>\n",
       "      <td>2143</td>\n",
       "      <td>yes</td>\n",
       "      <td>no</td>\n",
       "      <td>unknown</td>\n",
       "      <td>5</td>\n",
       "      <td>may</td>\n",
       "      <td>261</td>\n",
       "      <td>1</td>\n",
       "      <td>-1</td>\n",
       "      <td>0</td>\n",
       "      <td>unknown</td>\n",
       "      <td>1</td>\n",
       "    </tr>\n",
       "    <tr>\n",
       "      <th>1</th>\n",
       "      <td>44</td>\n",
       "      <td>technician</td>\n",
       "      <td>single</td>\n",
       "      <td>secondary</td>\n",
       "      <td>no</td>\n",
       "      <td>29</td>\n",
       "      <td>yes</td>\n",
       "      <td>no</td>\n",
       "      <td>unknown</td>\n",
       "      <td>5</td>\n",
       "      <td>may</td>\n",
       "      <td>151</td>\n",
       "      <td>1</td>\n",
       "      <td>-1</td>\n",
       "      <td>0</td>\n",
       "      <td>unknown</td>\n",
       "      <td>1</td>\n",
       "    </tr>\n",
       "    <tr>\n",
       "      <th>2</th>\n",
       "      <td>33</td>\n",
       "      <td>entrepreneur</td>\n",
       "      <td>married</td>\n",
       "      <td>secondary</td>\n",
       "      <td>no</td>\n",
       "      <td>2</td>\n",
       "      <td>yes</td>\n",
       "      <td>yes</td>\n",
       "      <td>unknown</td>\n",
       "      <td>5</td>\n",
       "      <td>may</td>\n",
       "      <td>76</td>\n",
       "      <td>1</td>\n",
       "      <td>-1</td>\n",
       "      <td>0</td>\n",
       "      <td>unknown</td>\n",
       "      <td>1</td>\n",
       "    </tr>\n",
       "    <tr>\n",
       "      <th>3</th>\n",
       "      <td>47</td>\n",
       "      <td>blue-collar</td>\n",
       "      <td>married</td>\n",
       "      <td>unknown</td>\n",
       "      <td>no</td>\n",
       "      <td>1506</td>\n",
       "      <td>yes</td>\n",
       "      <td>no</td>\n",
       "      <td>unknown</td>\n",
       "      <td>5</td>\n",
       "      <td>may</td>\n",
       "      <td>92</td>\n",
       "      <td>1</td>\n",
       "      <td>-1</td>\n",
       "      <td>0</td>\n",
       "      <td>unknown</td>\n",
       "      <td>1</td>\n",
       "    </tr>\n",
       "    <tr>\n",
       "      <th>4</th>\n",
       "      <td>33</td>\n",
       "      <td>unknown</td>\n",
       "      <td>single</td>\n",
       "      <td>unknown</td>\n",
       "      <td>no</td>\n",
       "      <td>1</td>\n",
       "      <td>no</td>\n",
       "      <td>no</td>\n",
       "      <td>unknown</td>\n",
       "      <td>5</td>\n",
       "      <td>may</td>\n",
       "      <td>198</td>\n",
       "      <td>1</td>\n",
       "      <td>-1</td>\n",
       "      <td>0</td>\n",
       "      <td>unknown</td>\n",
       "      <td>1</td>\n",
       "    </tr>\n",
       "  </tbody>\n",
       "</table>\n",
       "</div>"
      ],
      "text/plain": [
       "   Age           Job Marital Status  Education Credit  Balance (euros)  \\\n",
       "0   58    management        married   tertiary     no             2143   \n",
       "1   44    technician         single  secondary     no               29   \n",
       "2   33  entrepreneur        married  secondary     no                2   \n",
       "3   47   blue-collar        married    unknown     no             1506   \n",
       "4   33       unknown         single    unknown     no                1   \n",
       "\n",
       "  Housing Loan Personal Loan  Contact  Last Contact Day Last Contact Month  \\\n",
       "0          yes            no  unknown                 5                may   \n",
       "1          yes            no  unknown                 5                may   \n",
       "2          yes           yes  unknown                 5                may   \n",
       "3          yes            no  unknown                 5                may   \n",
       "4           no            no  unknown                 5                may   \n",
       "\n",
       "   Last Contact Duration  Campaign  Pdays  Previous Poutcome  Subscription  \n",
       "0                    261         1     -1         0  unknown             1  \n",
       "1                    151         1     -1         0  unknown             1  \n",
       "2                     76         1     -1         0  unknown             1  \n",
       "3                     92         1     -1         0  unknown             1  \n",
       "4                    198         1     -1         0  unknown             1  "
      ]
     },
     "execution_count": 2,
     "metadata": {},
     "output_type": "execute_result"
    }
   ],
   "source": [
    "df = pd.read_csv(r'C:\\Users\\HP\\Desktop\\DATA_SCIENCE\\bank marketing.csv')\n",
    "df.head()"
   ]
  },
  {
   "cell_type": "code",
   "execution_count": 3,
   "id": "f939fc21",
   "metadata": {},
   "outputs": [
    {
     "data": {
      "text/plain": [
       "(45211, 17)"
      ]
     },
     "execution_count": 3,
     "metadata": {},
     "output_type": "execute_result"
    }
   ],
   "source": [
    "df.shape"
   ]
  },
  {
   "cell_type": "code",
   "execution_count": 4,
   "id": "04bc8ebc",
   "metadata": {},
   "outputs": [
    {
     "data": {
      "text/html": [
       "<div>\n",
       "<style scoped>\n",
       "    .dataframe tbody tr th:only-of-type {\n",
       "        vertical-align: middle;\n",
       "    }\n",
       "\n",
       "    .dataframe tbody tr th {\n",
       "        vertical-align: top;\n",
       "    }\n",
       "\n",
       "    .dataframe thead th {\n",
       "        text-align: right;\n",
       "    }\n",
       "</style>\n",
       "<table border=\"1\" class=\"dataframe\">\n",
       "  <thead>\n",
       "    <tr style=\"text-align: right;\">\n",
       "      <th></th>\n",
       "      <th>Age</th>\n",
       "      <th>Balance (euros)</th>\n",
       "      <th>Last Contact Day</th>\n",
       "      <th>Last Contact Duration</th>\n",
       "      <th>Campaign</th>\n",
       "      <th>Pdays</th>\n",
       "      <th>Previous</th>\n",
       "      <th>Subscription</th>\n",
       "    </tr>\n",
       "  </thead>\n",
       "  <tbody>\n",
       "    <tr>\n",
       "      <th>count</th>\n",
       "      <td>45211.000000</td>\n",
       "      <td>45211.000000</td>\n",
       "      <td>45211.000000</td>\n",
       "      <td>45211.000000</td>\n",
       "      <td>45211.000000</td>\n",
       "      <td>45211.000000</td>\n",
       "      <td>45211.000000</td>\n",
       "      <td>45211.000000</td>\n",
       "    </tr>\n",
       "    <tr>\n",
       "      <th>mean</th>\n",
       "      <td>40.936210</td>\n",
       "      <td>1362.272058</td>\n",
       "      <td>15.806419</td>\n",
       "      <td>258.163080</td>\n",
       "      <td>2.763841</td>\n",
       "      <td>40.197828</td>\n",
       "      <td>0.580323</td>\n",
       "      <td>1.116985</td>\n",
       "    </tr>\n",
       "    <tr>\n",
       "      <th>std</th>\n",
       "      <td>10.618762</td>\n",
       "      <td>3044.765829</td>\n",
       "      <td>8.322476</td>\n",
       "      <td>257.527812</td>\n",
       "      <td>3.098021</td>\n",
       "      <td>100.128746</td>\n",
       "      <td>2.303441</td>\n",
       "      <td>0.321406</td>\n",
       "    </tr>\n",
       "    <tr>\n",
       "      <th>min</th>\n",
       "      <td>18.000000</td>\n",
       "      <td>-8019.000000</td>\n",
       "      <td>1.000000</td>\n",
       "      <td>0.000000</td>\n",
       "      <td>1.000000</td>\n",
       "      <td>-1.000000</td>\n",
       "      <td>0.000000</td>\n",
       "      <td>1.000000</td>\n",
       "    </tr>\n",
       "    <tr>\n",
       "      <th>25%</th>\n",
       "      <td>33.000000</td>\n",
       "      <td>72.000000</td>\n",
       "      <td>8.000000</td>\n",
       "      <td>103.000000</td>\n",
       "      <td>1.000000</td>\n",
       "      <td>-1.000000</td>\n",
       "      <td>0.000000</td>\n",
       "      <td>1.000000</td>\n",
       "    </tr>\n",
       "    <tr>\n",
       "      <th>50%</th>\n",
       "      <td>39.000000</td>\n",
       "      <td>448.000000</td>\n",
       "      <td>16.000000</td>\n",
       "      <td>180.000000</td>\n",
       "      <td>2.000000</td>\n",
       "      <td>-1.000000</td>\n",
       "      <td>0.000000</td>\n",
       "      <td>1.000000</td>\n",
       "    </tr>\n",
       "    <tr>\n",
       "      <th>75%</th>\n",
       "      <td>48.000000</td>\n",
       "      <td>1428.000000</td>\n",
       "      <td>21.000000</td>\n",
       "      <td>319.000000</td>\n",
       "      <td>3.000000</td>\n",
       "      <td>-1.000000</td>\n",
       "      <td>0.000000</td>\n",
       "      <td>1.000000</td>\n",
       "    </tr>\n",
       "    <tr>\n",
       "      <th>max</th>\n",
       "      <td>95.000000</td>\n",
       "      <td>102127.000000</td>\n",
       "      <td>31.000000</td>\n",
       "      <td>4918.000000</td>\n",
       "      <td>63.000000</td>\n",
       "      <td>871.000000</td>\n",
       "      <td>275.000000</td>\n",
       "      <td>2.000000</td>\n",
       "    </tr>\n",
       "  </tbody>\n",
       "</table>\n",
       "</div>"
      ],
      "text/plain": [
       "                Age  Balance (euros)  Last Contact Day  Last Contact Duration  \\\n",
       "count  45211.000000     45211.000000      45211.000000           45211.000000   \n",
       "mean      40.936210      1362.272058         15.806419             258.163080   \n",
       "std       10.618762      3044.765829          8.322476             257.527812   \n",
       "min       18.000000     -8019.000000          1.000000               0.000000   \n",
       "25%       33.000000        72.000000          8.000000             103.000000   \n",
       "50%       39.000000       448.000000         16.000000             180.000000   \n",
       "75%       48.000000      1428.000000         21.000000             319.000000   \n",
       "max       95.000000    102127.000000         31.000000            4918.000000   \n",
       "\n",
       "           Campaign         Pdays      Previous  Subscription  \n",
       "count  45211.000000  45211.000000  45211.000000  45211.000000  \n",
       "mean       2.763841     40.197828      0.580323      1.116985  \n",
       "std        3.098021    100.128746      2.303441      0.321406  \n",
       "min        1.000000     -1.000000      0.000000      1.000000  \n",
       "25%        1.000000     -1.000000      0.000000      1.000000  \n",
       "50%        2.000000     -1.000000      0.000000      1.000000  \n",
       "75%        3.000000     -1.000000      0.000000      1.000000  \n",
       "max       63.000000    871.000000    275.000000      2.000000  "
      ]
     },
     "execution_count": 4,
     "metadata": {},
     "output_type": "execute_result"
    }
   ],
   "source": [
    "df.describe()"
   ]
  },
  {
   "cell_type": "code",
   "execution_count": 5,
   "id": "352b50a7",
   "metadata": {},
   "outputs": [
    {
     "name": "stdout",
     "output_type": "stream",
     "text": [
      "<class 'pandas.core.frame.DataFrame'>\n",
      "RangeIndex: 45211 entries, 0 to 45210\n",
      "Data columns (total 17 columns):\n",
      " #   Column                 Non-Null Count  Dtype \n",
      "---  ------                 --------------  ----- \n",
      " 0   Age                    45211 non-null  int64 \n",
      " 1   Job                    45211 non-null  object\n",
      " 2   Marital Status         45211 non-null  object\n",
      " 3   Education              45211 non-null  object\n",
      " 4   Credit                 45211 non-null  object\n",
      " 5   Balance (euros)        45211 non-null  int64 \n",
      " 6   Housing Loan           45211 non-null  object\n",
      " 7   Personal Loan          45211 non-null  object\n",
      " 8   Contact                45211 non-null  object\n",
      " 9   Last Contact Day       45211 non-null  int64 \n",
      " 10  Last Contact Month     45211 non-null  object\n",
      " 11  Last Contact Duration  45211 non-null  int64 \n",
      " 12  Campaign               45211 non-null  int64 \n",
      " 13  Pdays                  45211 non-null  int64 \n",
      " 14  Previous               45211 non-null  int64 \n",
      " 15  Poutcome               45211 non-null  object\n",
      " 16  Subscription           45211 non-null  int64 \n",
      "dtypes: int64(8), object(9)\n",
      "memory usage: 5.9+ MB\n"
     ]
    }
   ],
   "source": [
    "df.info()"
   ]
  },
  {
   "cell_type": "code",
   "execution_count": 6,
   "id": "f1ff7df7",
   "metadata": {},
   "outputs": [
    {
     "data": {
      "text/plain": [
       "Age                      0\n",
       "Job                      0\n",
       "Marital Status           0\n",
       "Education                0\n",
       "Credit                   0\n",
       "Balance (euros)          0\n",
       "Housing Loan             0\n",
       "Personal Loan            0\n",
       "Contact                  0\n",
       "Last Contact Day         0\n",
       "Last Contact Month       0\n",
       "Last Contact Duration    0\n",
       "Campaign                 0\n",
       "Pdays                    0\n",
       "Previous                 0\n",
       "Poutcome                 0\n",
       "Subscription             0\n",
       "dtype: int64"
      ]
     },
     "execution_count": 6,
     "metadata": {},
     "output_type": "execute_result"
    }
   ],
   "source": [
    "df.isnull().sum()"
   ]
  },
  {
   "cell_type": "code",
   "execution_count": 7,
   "id": "b46dfbb0",
   "metadata": {},
   "outputs": [
    {
     "name": "stdout",
     "output_type": "stream",
     "text": [
      "Age 77\n",
      "Job 12\n",
      "Marital Status 3\n",
      "Education 4\n",
      "Credit 2\n",
      "Balance (euros) 7168\n",
      "Housing Loan 2\n",
      "Personal Loan 2\n",
      "Contact 3\n",
      "Last Contact Day 31\n",
      "Last Contact Month 12\n",
      "Last Contact Duration 1573\n",
      "Campaign 48\n",
      "Pdays 559\n",
      "Previous 41\n",
      "Poutcome 4\n",
      "Subscription 2\n"
     ]
    }
   ],
   "source": [
    "for clm in df.columns:\n",
    " print(clm,df[clm].nunique())"
   ]
  },
  {
   "cell_type": "markdown",
   "id": "33895ed2",
   "metadata": {},
   "source": [
    "#Explore the categorical features"
   ]
  },
  {
   "cell_type": "code",
   "execution_count": 8,
   "id": "abb9f94b",
   "metadata": {},
   "outputs": [
    {
     "data": {
      "text/plain": [
       "['Job',\n",
       " 'Marital Status',\n",
       " 'Education',\n",
       " 'Credit',\n",
       " 'Housing Loan',\n",
       " 'Personal Loan',\n",
       " 'Contact',\n",
       " 'Last Contact Month',\n",
       " 'Poutcome']"
      ]
     },
     "execution_count": 8,
     "metadata": {},
     "output_type": "execute_result"
    }
   ],
   "source": [
    "categorical_features=[feature for feature in df.columns if (df[feature].dtypes=='O')]   \n",
    "categorical_features "
   ]
  },
  {
   "cell_type": "code",
   "execution_count": 9,
   "id": "c21ed1d2",
   "metadata": {},
   "outputs": [],
   "source": [
    "#From above, there are 9 categorical featues\n",
    "#job and last contact month has high categorical values."
   ]
  },
  {
   "cell_type": "code",
   "execution_count": 10,
   "id": "df948159",
   "metadata": {},
   "outputs": [
    {
     "data": {
      "text/plain": [
       "<AxesSubplot:xlabel='Subscription'>"
      ]
     },
     "execution_count": 10,
     "metadata": {},
     "output_type": "execute_result"
    },
    {
     "data": {
      "image/png": "[encoded data removed]",
      "text/plain": [
       "<Figure size 432x288 with 1 Axes>"
      ]
     },
     "metadata": {
      "needs_background": "light"
     },
     "output_type": "display_data"
    }
   ],
   "source": [
    "df.groupby('Subscription').size().plot(kind='bar')"
   ]
  },
  {
   "cell_type": "code",
   "execution_count": 11,
   "id": "87ee395d",
   "metadata": {},
   "outputs": [
    {
     "data": {
      "text/plain": [
       "Subscription  Age\n",
       "1             18      5\n",
       "              19     24\n",
       "              20     35\n",
       "              21     57\n",
       "              22     89\n",
       "                     ..\n",
       "2             87      3\n",
       "              90      2\n",
       "              92      2\n",
       "              93      2\n",
       "              95      1\n",
       "Length: 148, dtype: int64"
      ]
     },
     "execution_count": 11,
     "metadata": {},
     "output_type": "execute_result"
    }
   ],
   "source": [
    "#Subscription vs age \n",
    "df.groupby(['Subscription','Age']).size() "
   ]
  },
  {
   "cell_type": "code",
   "execution_count": 12,
   "id": "c7238cd2",
   "metadata": {},
   "outputs": [
    {
     "data": {
      "text/plain": [
       "Subscription  Job          \n",
       "1             admin.           4540\n",
       "              blue-collar      9024\n",
       "              entrepreneur     1364\n",
       "              housemaid        1131\n",
       "              management       8157\n",
       "              retired          1748\n",
       "              self-employed    1392\n",
       "              services         3785\n",
       "              student           669\n",
       "              technician       6757\n",
       "              unemployed       1101\n",
       "              unknown           254\n",
       "2             admin.            631\n",
       "              blue-collar       708\n",
       "              entrepreneur      123\n",
       "              housemaid         109\n",
       "              management       1301\n",
       "              retired           516\n",
       "              self-employed     187\n",
       "              services          369\n",
       "              student           269\n",
       "              technician        840\n",
       "              unemployed        202\n",
       "              unknown            34\n",
       "dtype: int64"
      ]
     },
     "execution_count": 12,
     "metadata": {},
     "output_type": "execute_result"
    }
   ],
   "source": [
    "#Subscription vs job \n",
    "df.groupby(['Subscription','Job']).size()"
   ]
  },
  {
   "cell_type": "code",
   "execution_count": 13,
   "id": "112ec964",
   "metadata": {},
   "outputs": [
    {
     "data": {
      "text/plain": [
       "<AxesSubplot:xlabel='Subscription,Job'>"
      ]
     },
     "execution_count": 13,
     "metadata": {},
     "output_type": "execute_result"
    },
    {
     "data": {
      "image/png": "[encoded data removed]",
      "text/plain": [
       "<Figure size 432x288 with 1 Axes>"
      ]
     },
     "metadata": {
      "needs_background": "light"
     },
     "output_type": "display_data"
    }
   ],
   "source": [
    "df.groupby(['Subscription','Job']).size().plot(kind='bar')        "
   ]
  },
  {
   "cell_type": "markdown",
   "id": "2221ee42",
   "metadata": {},
   "source": [
    "Client with job type as management recordes are high in given dataset,they subscribe high than th others."
   ]
  },
  {
   "cell_type": "code",
   "execution_count": 14,
   "id": "10045a14",
   "metadata": {},
   "outputs": [
    {
     "data": {
      "text/plain": [
       "Subscription  Marital Status\n",
       "1             divorced           4585\n",
       "              married           24459\n",
       "              single            10878\n",
       "2             divorced            622\n",
       "              married            2755\n",
       "              single             1912\n",
       "dtype: int64"
      ]
     },
     "execution_count": 14,
     "metadata": {},
     "output_type": "execute_result"
    }
   ],
   "source": [
    "# subscription vs marital status             \n",
    "df.groupby(['Subscription','Marital Status']).size()    "
   ]
  },
  {
   "cell_type": "code",
   "execution_count": 15,
   "id": "6c52a079",
   "metadata": {},
   "outputs": [
    {
     "data": {
      "text/plain": [
       "<AxesSubplot:xlabel='Subscription,Marital Status'>"
      ]
     },
     "execution_count": 15,
     "metadata": {},
     "output_type": "execute_result"
    },
    {
     "data": {
      "image/png": "[encoded data removed]",
      "text/plain": [
       "<Figure size 432x288 with 1 Axes>"
      ]
     },
     "metadata": {
      "needs_background": "light"
     },
     "output_type": "display_data"
    }
   ],
   "source": [
    "df.groupby(['Subscription','Marital Status']).size().plot(kind='bar') "
   ]
  },
  {
   "cell_type": "code",
   "execution_count": 16,
   "id": "7bbf5d56",
   "metadata": {},
   "outputs": [
    {
     "data": {
      "text/plain": [
       "<AxesSubplot:xlabel='Housing Loan'>"
      ]
     },
     "execution_count": 16,
     "metadata": {},
     "output_type": "execute_result"
    },
    {
     "data": {
      "image/png": "[encoded data removed]",
      "text/plain": [
       "<Figure size 432x288 with 1 Axes>"
      ]
     },
     "metadata": {
      "needs_background": "light"
     },
     "output_type": "display_data"
    }
   ],
   "source": [
    "df.groupby('Housing Loan').size().plot(kind='bar')                                                                              "
   ]
  },
  {
   "cell_type": "markdown",
   "id": "377945a1",
   "metadata": {},
   "source": [
    "client who has housing loan is not interested on subscription."
   ]
  },
  {
   "cell_type": "code",
   "execution_count": 17,
   "id": "d9aaf728",
   "metadata": {},
   "outputs": [
    {
     "data": {
      "text/plain": [
       "Subscription  Last Contact Month\n",
       "1             apr                    2355\n",
       "              aug                    5559\n",
       "              dec                     114\n",
       "              feb                    2208\n",
       "              jan                    1261\n",
       "              jul                    6268\n",
       "              jun                    4795\n",
       "              mar                     229\n",
       "              may                   12841\n",
       "              nov                    3567\n",
       "              oct                     415\n",
       "              sep                     310\n",
       "2             apr                     577\n",
       "              aug                     688\n",
       "              dec                     100\n",
       "              feb                     441\n",
       "              jan                     142\n",
       "              jul                     627\n",
       "              jun                     546\n",
       "              mar                     248\n",
       "              may                     925\n",
       "              nov                     403\n",
       "              oct                     323\n",
       "              sep                     269\n",
       "dtype: int64"
      ]
     },
     "execution_count": 17,
     "metadata": {},
     "output_type": "execute_result"
    }
   ],
   "source": [
    "df.groupby(['Subscription','Last Contact Month']).size()          "
   ]
  },
  {
   "cell_type": "code",
   "execution_count": 18,
   "id": "6a62508b",
   "metadata": {},
   "outputs": [
    {
     "data": {
      "text/plain": [
       "<AxesSubplot:xlabel='Subscription,Last Contact Month'>"
      ]
     },
     "execution_count": 18,
     "metadata": {},
     "output_type": "execute_result"
    },
    {
     "data": {
      "image/png": "[encoded data removed]",
      "text/plain": [
       "<Figure size 432x288 with 1 Axes>"
      ]
     },
     "metadata": {
      "needs_background": "light"
     },
     "output_type": "display_data"
    }
   ],
   "source": [
    "df.groupby(['Subscription','Last Contact Month']).size().plot(kind='bar')      "
   ]
  },
  {
   "cell_type": "code",
   "execution_count": 19,
   "id": "22e021e9",
   "metadata": {},
   "outputs": [
    {
     "data": {
      "text/plain": [
       "Subscription  Last Contact Day\n",
       "1             1                    232\n",
       "              2                   1111\n",
       "              3                    901\n",
       "              4                   1215\n",
       "              5                   1695\n",
       "                                  ... \n",
       "2             27                   150\n",
       "              28                   143\n",
       "              29                   129\n",
       "              30                   271\n",
       "              31                    46\n",
       "Length: 62, dtype: int64"
      ]
     },
     "execution_count": 19,
     "metadata": {},
     "output_type": "execute_result"
    }
   ],
   "source": [
    "df.groupby(['Subscription','Last Contact Day']).size()         "
   ]
  },
  {
   "cell_type": "code",
   "execution_count": 20,
   "id": "889a57a7",
   "metadata": {},
   "outputs": [
    {
     "data": {
      "text/plain": [
       "<AxesSubplot:xlabel='Subscription,Last Contact Day'>"
      ]
     },
     "execution_count": 20,
     "metadata": {},
     "output_type": "execute_result"
    },
    {
     "data": {
      "image/png": "[encoded data removed]",
      "text/plain": [
       "<Figure size 432x288 with 1 Axes>"
      ]
     },
     "metadata": {
      "needs_background": "light"
     },
     "output_type": "display_data"
    }
   ],
   "source": [
    "df.groupby(['Subscription','Last Contact Day']).size().plot(kind='bar')    "
   ]
  },
  {
   "cell_type": "code",
   "execution_count": 21,
   "id": "0d69decd",
   "metadata": {},
   "outputs": [
    {
     "data": {
      "text/plain": [
       "Subscription  Education\n",
       "1             primary       6260\n",
       "              secondary    20752\n",
       "              tertiary     11305\n",
       "              unknown       1605\n",
       "2             primary        591\n",
       "              secondary     2450\n",
       "              tertiary      1996\n",
       "              unknown        252\n",
       "dtype: int64"
      ]
     },
     "execution_count": 21,
     "metadata": {},
     "output_type": "execute_result"
    }
   ],
   "source": [
    "df.groupby(['Subscription','Education']).size()   "
   ]
  },
  {
   "cell_type": "code",
   "execution_count": 22,
   "id": "e55d7d75",
   "metadata": {},
   "outputs": [
    {
     "data": {
      "text/plain": [
       "<AxesSubplot:xlabel='Subscription,Education'>"
      ]
     },
     "execution_count": 22,
     "metadata": {},
     "output_type": "execute_result"
    },
    {
     "data": {
      "image/png": "[encoded data removed]",
      "text/plain": [
       "<Figure size 432x288 with 1 Axes>"
      ]
     },
     "metadata": {
      "needs_background": "light"
     },
     "output_type": "display_data"
    }
   ],
   "source": [
    "df.groupby(['Subscription','Education']).size().plot(kind='bar')               "
   ]
  },
  {
   "cell_type": "markdown",
   "id": "d2a9b346",
   "metadata": {},
   "source": [
    "The clients whos education is secondary are highly given in this dataset."
   ]
  },
  {
   "cell_type": "code",
   "execution_count": 23,
   "id": "a25f7ad0",
   "metadata": {},
   "outputs": [
    {
     "data": {
      "text/plain": [
       "Subscription  Balance (euros)\n",
       "1             -8019              1\n",
       "              -6847              1\n",
       "              -4057              1\n",
       "              -3372              1\n",
       "              -3313              1\n",
       "                                ..\n",
       "2              34646             1\n",
       "               36252             1\n",
       "               45248             1\n",
       "               52587             2\n",
       "               81204             2\n",
       "Length: 9258, dtype: int64"
      ]
     },
     "execution_count": 23,
     "metadata": {},
     "output_type": "execute_result"
    }
   ],
   "source": [
    "df.groupby(['Subscription','Balance (euros)']).size()"
   ]
  },
  {
   "cell_type": "code",
   "execution_count": 24,
   "id": "44daffe5",
   "metadata": {},
   "outputs": [
    {
     "data": {
      "text/plain": [
       "[<matplotlib.lines.Line2D at 0x1c674776400>]"
      ]
     },
     "execution_count": 24,
     "metadata": {},
     "output_type": "execute_result"
    },
    {
     "data": {
      "image/png": "[encoded data removed]",
      "text/plain": [
       "<Figure size 432x288 with 1 Axes>"
      ]
     },
     "metadata": {
      "needs_background": "light"
     },
     "output_type": "display_data"
    }
   ],
   "source": [
    "plt.plot(df[\"Balance (euros)\"], df[\"Subscription\"],'o')                "
   ]
  },
  {
   "cell_type": "code",
   "execution_count": 25,
   "id": "59a72f17",
   "metadata": {},
   "outputs": [
    {
     "data": {
      "text/plain": [
       "[<matplotlib.lines.Line2D at 0x1c6747da6d0>]"
      ]
     },
     "execution_count": 25,
     "metadata": {},
     "output_type": "execute_result"
    },
    {
     "data": {
      "image/png": "[encoded data removed]",
      "text/plain": [
       "<Figure size 432x288 with 1 Axes>"
      ]
     },
     "metadata": {
      "needs_background": "light"
     },
     "output_type": "display_data"
    }
   ],
   "source": [
    "plt.plot(df[\"Last Contact Duration\"], df[\"Subscription\"],'o')                  "
   ]
  },
  {
   "cell_type": "code",
   "execution_count": 26,
   "id": "a15b413b",
   "metadata": {},
   "outputs": [
    {
     "data": {
      "text/plain": [
       "Subscription  Last Contact Duration\n",
       "1             0                         3\n",
       "              1                         2\n",
       "              2                         3\n",
       "              3                         4\n",
       "              4                        15\n",
       "                                       ..\n",
       "2             3094                      1\n",
       "              3102                      1\n",
       "              3183                      1\n",
       "              3253                      1\n",
       "              3881                      1\n",
       "Length: 2627, dtype: int64"
      ]
     },
     "execution_count": 26,
     "metadata": {},
     "output_type": "execute_result"
    }
   ],
   "source": [
    "df.groupby(['Subscription','Last Contact Duration']).size() "
   ]
  },
  {
   "cell_type": "code",
   "execution_count": 27,
   "id": "f98481f6",
   "metadata": {},
   "outputs": [
    {
     "data": {
      "text/plain": [
       "<AxesSubplot:xlabel='Subscription,Credit'>"
      ]
     },
     "execution_count": 27,
     "metadata": {},
     "output_type": "execute_result"
    },
    {
     "data": {
      "image/png": "[encoded data removed]",
      "text/plain": [
       "<Figure size 432x288 with 1 Axes>"
      ]
     },
     "metadata": {
      "needs_background": "light"
     },
     "output_type": "display_data"
    }
   ],
   "source": [
    "df.groupby(['Subscription','Credit']).size().plot(kind='bar') "
   ]
  },
  {
   "cell_type": "code",
   "execution_count": 28,
   "id": "e0a8346a",
   "metadata": {},
   "outputs": [
    {
     "data": {
      "text/plain": [
       "Subscription  Pdays\n",
       "1             -1       33570\n",
       "               1           9\n",
       "               2          35\n",
       "               3           1\n",
       "               4           1\n",
       "                       ...  \n",
       "2              804         1\n",
       "               805         1\n",
       "               828         1\n",
       "               842         1\n",
       "               854         1\n",
       "Length: 914, dtype: int64"
      ]
     },
     "execution_count": 28,
     "metadata": {},
     "output_type": "execute_result"
    }
   ],
   "source": [
    "df.groupby(['Subscription','Pdays']).size()            "
   ]
  },
  {
   "cell_type": "markdown",
   "id": "2de70d32",
   "metadata": {},
   "source": [
    "# Data Processing"
   ]
  },
  {
   "cell_type": "code",
   "execution_count": 29,
   "id": "156203a0",
   "metadata": {},
   "outputs": [
    {
     "data": {
      "text/html": [
       "<div>\n",
       "<style scoped>\n",
       "    .dataframe tbody tr th:only-of-type {\n",
       "        vertical-align: middle;\n",
       "    }\n",
       "\n",
       "    .dataframe tbody tr th {\n",
       "        vertical-align: top;\n",
       "    }\n",
       "\n",
       "    .dataframe thead th {\n",
       "        text-align: right;\n",
       "    }\n",
       "</style>\n",
       "<table border=\"1\" class=\"dataframe\">\n",
       "  <thead>\n",
       "    <tr style=\"text-align: right;\">\n",
       "      <th></th>\n",
       "      <th>Age</th>\n",
       "      <th>Balance (euros)</th>\n",
       "      <th>Last Contact Day</th>\n",
       "      <th>Last Contact Duration</th>\n",
       "      <th>Campaign</th>\n",
       "      <th>Pdays</th>\n",
       "      <th>Previous</th>\n",
       "      <th>Subscription</th>\n",
       "      <th>Job_blue-collar</th>\n",
       "      <th>Job_entrepreneur</th>\n",
       "      <th>...</th>\n",
       "      <th>Last Contact Month_jul</th>\n",
       "      <th>Last Contact Month_jun</th>\n",
       "      <th>Last Contact Month_mar</th>\n",
       "      <th>Last Contact Month_may</th>\n",
       "      <th>Last Contact Month_nov</th>\n",
       "      <th>Last Contact Month_oct</th>\n",
       "      <th>Last Contact Month_sep</th>\n",
       "      <th>Poutcome_other</th>\n",
       "      <th>Poutcome_success</th>\n",
       "      <th>Poutcome_unknown</th>\n",
       "    </tr>\n",
       "  </thead>\n",
       "  <tbody>\n",
       "    <tr>\n",
       "      <th>0</th>\n",
       "      <td>58</td>\n",
       "      <td>2143</td>\n",
       "      <td>5</td>\n",
       "      <td>261</td>\n",
       "      <td>1</td>\n",
       "      <td>-1</td>\n",
       "      <td>0</td>\n",
       "      <td>1</td>\n",
       "      <td>0</td>\n",
       "      <td>0</td>\n",
       "      <td>...</td>\n",
       "      <td>0</td>\n",
       "      <td>0</td>\n",
       "      <td>0</td>\n",
       "      <td>1</td>\n",
       "      <td>0</td>\n",
       "      <td>0</td>\n",
       "      <td>0</td>\n",
       "      <td>0</td>\n",
       "      <td>0</td>\n",
       "      <td>1</td>\n",
       "    </tr>\n",
       "    <tr>\n",
       "      <th>1</th>\n",
       "      <td>44</td>\n",
       "      <td>29</td>\n",
       "      <td>5</td>\n",
       "      <td>151</td>\n",
       "      <td>1</td>\n",
       "      <td>-1</td>\n",
       "      <td>0</td>\n",
       "      <td>1</td>\n",
       "      <td>0</td>\n",
       "      <td>0</td>\n",
       "      <td>...</td>\n",
       "      <td>0</td>\n",
       "      <td>0</td>\n",
       "      <td>0</td>\n",
       "      <td>1</td>\n",
       "      <td>0</td>\n",
       "      <td>0</td>\n",
       "      <td>0</td>\n",
       "      <td>0</td>\n",
       "      <td>0</td>\n",
       "      <td>1</td>\n",
       "    </tr>\n",
       "    <tr>\n",
       "      <th>2</th>\n",
       "      <td>33</td>\n",
       "      <td>2</td>\n",
       "      <td>5</td>\n",
       "      <td>76</td>\n",
       "      <td>1</td>\n",
       "      <td>-1</td>\n",
       "      <td>0</td>\n",
       "      <td>1</td>\n",
       "      <td>0</td>\n",
       "      <td>1</td>\n",
       "      <td>...</td>\n",
       "      <td>0</td>\n",
       "      <td>0</td>\n",
       "      <td>0</td>\n",
       "      <td>1</td>\n",
       "      <td>0</td>\n",
       "      <td>0</td>\n",
       "      <td>0</td>\n",
       "      <td>0</td>\n",
       "      <td>0</td>\n",
       "      <td>1</td>\n",
       "    </tr>\n",
       "    <tr>\n",
       "      <th>3</th>\n",
       "      <td>47</td>\n",
       "      <td>1506</td>\n",
       "      <td>5</td>\n",
       "      <td>92</td>\n",
       "      <td>1</td>\n",
       "      <td>-1</td>\n",
       "      <td>0</td>\n",
       "      <td>1</td>\n",
       "      <td>1</td>\n",
       "      <td>0</td>\n",
       "      <td>...</td>\n",
       "      <td>0</td>\n",
       "      <td>0</td>\n",
       "      <td>0</td>\n",
       "      <td>1</td>\n",
       "      <td>0</td>\n",
       "      <td>0</td>\n",
       "      <td>0</td>\n",
       "      <td>0</td>\n",
       "      <td>0</td>\n",
       "      <td>1</td>\n",
       "    </tr>\n",
       "    <tr>\n",
       "      <th>4</th>\n",
       "      <td>33</td>\n",
       "      <td>1</td>\n",
       "      <td>5</td>\n",
       "      <td>198</td>\n",
       "      <td>1</td>\n",
       "      <td>-1</td>\n",
       "      <td>0</td>\n",
       "      <td>1</td>\n",
       "      <td>0</td>\n",
       "      <td>0</td>\n",
       "      <td>...</td>\n",
       "      <td>0</td>\n",
       "      <td>0</td>\n",
       "      <td>0</td>\n",
       "      <td>1</td>\n",
       "      <td>0</td>\n",
       "      <td>0</td>\n",
       "      <td>0</td>\n",
       "      <td>0</td>\n",
       "      <td>0</td>\n",
       "      <td>1</td>\n",
       "    </tr>\n",
       "  </tbody>\n",
       "</table>\n",
       "<p>5 rows × 43 columns</p>\n",
       "</div>"
      ],
      "text/plain": [
       "   Age  Balance (euros)  Last Contact Day  Last Contact Duration  Campaign  \\\n",
       "0   58             2143                 5                    261         1   \n",
       "1   44               29                 5                    151         1   \n",
       "2   33                2                 5                     76         1   \n",
       "3   47             1506                 5                     92         1   \n",
       "4   33                1                 5                    198         1   \n",
       "\n",
       "   Pdays  Previous  Subscription  Job_blue-collar  Job_entrepreneur  ...  \\\n",
       "0     -1         0             1                0                 0  ...   \n",
       "1     -1         0             1                0                 0  ...   \n",
       "2     -1         0             1                0                 1  ...   \n",
       "3     -1         0             1                1                 0  ...   \n",
       "4     -1         0             1                0                 0  ...   \n",
       "\n",
       "   Last Contact Month_jul  Last Contact Month_jun  Last Contact Month_mar  \\\n",
       "0                       0                       0                       0   \n",
       "1                       0                       0                       0   \n",
       "2                       0                       0                       0   \n",
       "3                       0                       0                       0   \n",
       "4                       0                       0                       0   \n",
       "\n",
       "   Last Contact Month_may  Last Contact Month_nov  Last Contact Month_oct  \\\n",
       "0                       1                       0                       0   \n",
       "1                       1                       0                       0   \n",
       "2                       1                       0                       0   \n",
       "3                       1                       0                       0   \n",
       "4                       1                       0                       0   \n",
       "\n",
       "   Last Contact Month_sep  Poutcome_other  Poutcome_success  Poutcome_unknown  \n",
       "0                       0               0                 0                 1  \n",
       "1                       0               0                 0                 1  \n",
       "2                       0               0                 0                 1  \n",
       "3                       0               0                 0                 1  \n",
       "4                       0               0                 0                 1  \n",
       "\n",
       "[5 rows x 43 columns]"
      ]
     },
     "execution_count": 29,
     "metadata": {},
     "output_type": "execute_result"
    }
   ],
   "source": [
    "# We will convert the categorical data\n",
    "df1 = pd.get_dummies(df, columns=[ 'Job', 'Marital Status', 'Credit','Education' ,'Contact', 'Housing Loan', 'Personal Loan',\n",
    "                                  'Last Contact Month','Poutcome'],drop_first=True)          \n",
    "df1.head() "
   ]
  },
  {
   "cell_type": "markdown",
   "id": "253cc537",
   "metadata": {},
   "source": [
    "# Resampling unbalanced data"
   ]
  },
  {
   "cell_type": "code",
   "execution_count": 30,
   "id": "ec31f2fc",
   "metadata": {},
   "outputs": [],
   "source": [
    "from sklearn.utils import resample     \n",
    "nonSubscription=df1[df1['Subscription']==1]\n",
    "Subscription=df1[df1['Subscription']==2]  "
   ]
  },
  {
   "cell_type": "code",
   "execution_count": 31,
   "id": "25d449cc",
   "metadata": {},
   "outputs": [],
   "source": [
    "random_sampling=resample(Subscription,random_state=42,replace=True,n_samples=len(nonSubscription))\n",
    "\n",
    "df1=pd.concat([nonSubscription,random_sampling])"
   ]
  },
  {
   "cell_type": "code",
   "execution_count": 32,
   "id": "2e78beb1",
   "metadata": {},
   "outputs": [
    {
     "data": {
      "text/plain": [
       "<AxesSubplot:xlabel='Subscription'>"
      ]
     },
     "execution_count": 32,
     "metadata": {},
     "output_type": "execute_result"
    },
    {
     "data": {
      "image/png": "[encoded data removed]",
      "text/plain": [
       "<Figure size 432x288 with 1 Axes>"
      ]
     },
     "metadata": {
      "needs_background": "light"
     },
     "output_type": "display_data"
    }
   ],
   "source": [
    "df1.groupby('Subscription').size().plot(kind='bar')"
   ]
  },
  {
   "cell_type": "code",
   "execution_count": 33,
   "id": "6e38a35b",
   "metadata": {},
   "outputs": [
    {
     "data": {
      "text/plain": [
       "1    39922\n",
       "2    39922\n",
       "Name: Subscription, dtype: int64"
      ]
     },
     "execution_count": 33,
     "metadata": {},
     "output_type": "execute_result"
    }
   ],
   "source": [
    "df1['Subscription'].value_counts()"
   ]
  },
  {
   "cell_type": "code",
   "execution_count": 34,
   "id": "0a609cb8",
   "metadata": {},
   "outputs": [],
   "source": [
    "X=df1.drop(['Subscription'],axis=1)\n",
    "y=df1['Subscription']   "
   ]
  },
  {
   "cell_type": "code",
   "execution_count": 35,
   "id": "b84d16c5",
   "metadata": {},
   "outputs": [],
   "source": [
    "from sklearn.model_selection import train_test_split\n",
    "X_train,X_test,y_train,y_test=train_test_split(X,y,test_size=0.2, random_state=0)"
   ]
  },
  {
   "cell_type": "markdown",
   "id": "9e8e7581",
   "metadata": {},
   "source": [
    "# Predicting Subscription using Logistic Regression"
   ]
  },
  {
   "cell_type": "code",
   "execution_count": 36,
   "id": "3665c330",
   "metadata": {},
   "outputs": [
    {
     "name": "stderr",
     "output_type": "stream",
     "text": [
      "C:\\ProgramData\\Anaconda3\\lib\\site-packages\\sklearn\\linear_model\\_logistic.py:763: ConvergenceWarning: lbfgs failed to converge (status=1):\n",
      "STOP: TOTAL NO. of ITERATIONS REACHED LIMIT.\n",
      "\n",
      "Increase the number of iterations (max_iter) or scale the data as shown in:\n",
      "    https://scikit-learn.org/stable/modules/preprocessing.html\n",
      "Please also refer to the documentation for alternative solver options:\n",
      "    https://scikit-learn.org/stable/modules/linear_model.html#logistic-regression\n",
      "  n_iter_i = _check_optimize_result(\n"
     ]
    },
    {
     "data": {
      "text/plain": [
       "LogisticRegression()"
      ]
     },
     "execution_count": 36,
     "metadata": {},
     "output_type": "execute_result"
    }
   ],
   "source": [
    "from sklearn.linear_model import LogisticRegression\n",
    "model=LogisticRegression()\n",
    "model.fit(X_train,y_train)"
   ]
  },
  {
   "cell_type": "code",
   "execution_count": 37,
   "id": "92f0ec64",
   "metadata": {},
   "outputs": [],
   "source": [
    "y_predicted=model.predict(X_test)"
   ]
  },
  {
   "cell_type": "code",
   "execution_count": 38,
   "id": "9da5dbbe",
   "metadata": {},
   "outputs": [],
   "source": [
    "from sklearn.metrics import confusion_matrix,accuracy_score,classification_report"
   ]
  },
  {
   "cell_type": "code",
   "execution_count": 39,
   "id": "9381c5fe",
   "metadata": {},
   "outputs": [
    {
     "name": "stdout",
     "output_type": "stream",
     "text": [
      "accuracy score 0.8016782516124992\n"
     ]
    }
   ],
   "source": [
    "print('accuracy score',accuracy_score(y_test,y_predicted))"
   ]
  },
  {
   "cell_type": "code",
   "execution_count": 40,
   "id": "5c420b6d",
   "metadata": {},
   "outputs": [
    {
     "data": {
      "text/plain": [
       "array([[6433, 1426],\n",
       "       [1741, 6369]], dtype=int64)"
      ]
     },
     "execution_count": 40,
     "metadata": {},
     "output_type": "execute_result"
    }
   ],
   "source": [
    "cm=confusion_matrix(y_test,y_predicted)\n",
    "cm"
   ]
  },
  {
   "cell_type": "code",
   "execution_count": 41,
   "id": "9e807a84",
   "metadata": {},
   "outputs": [
    {
     "data": {
      "text/plain": [
       "<AxesSubplot:>"
      ]
     },
     "execution_count": 41,
     "metadata": {},
     "output_type": "execute_result"
    },
    {
     "data": {
      "image/png": "[encoded data removed]",
      "text/plain": [
       "<Figure size 432x288 with 2 Axes>"
      ]
     },
     "metadata": {
      "needs_background": "light"
     },
     "output_type": "display_data"
    }
   ],
   "source": [
    "sns.heatmap(cm,annot=True)"
   ]
  },
  {
   "cell_type": "code",
   "execution_count": 42,
   "id": "67a95033",
   "metadata": {},
   "outputs": [
    {
     "name": "stdout",
     "output_type": "stream",
     "text": [
      "classification report               precision    recall  f1-score   support\n",
      "\n",
      "           1       0.79      0.82      0.80      7859\n",
      "           2       0.82      0.79      0.80      8110\n",
      "\n",
      "    accuracy                           0.80     15969\n",
      "   macro avg       0.80      0.80      0.80     15969\n",
      "weighted avg       0.80      0.80      0.80     15969\n",
      "\n"
     ]
    }
   ],
   "source": [
    "print('classification report',classification_report(y_test,y_predicted))"
   ]
  },
  {
   "cell_type": "markdown",
   "id": "72038c32",
   "metadata": {},
   "source": [
    "# Predicting Subscription with Random Forest Classifier"
   ]
  },
  {
   "cell_type": "code",
   "execution_count": 43,
   "id": "64b3173b",
   "metadata": {},
   "outputs": [
    {
     "data": {
      "text/plain": [
       "RandomForestClassifier()"
      ]
     },
     "execution_count": 43,
     "metadata": {},
     "output_type": "execute_result"
    }
   ],
   "source": [
    "from sklearn.ensemble import RandomForestClassifier\n",
    "model2=RandomForestClassifier()\n",
    "model2.fit(X_train,y_train)"
   ]
  },
  {
   "cell_type": "code",
   "execution_count": 44,
   "id": "87f038cd",
   "metadata": {},
   "outputs": [
    {
     "name": "stdout",
     "output_type": "stream",
     "text": [
      "accuracy score 0.9703801114659653\n"
     ]
    }
   ],
   "source": [
    "y_predicted2=model2.predict(X_test)\n",
    "print('accuracy score',accuracy_score(y_test,y_predicted2))"
   ]
  },
  {
   "cell_type": "code",
   "execution_count": 45,
   "id": "1149ee7e",
   "metadata": {},
   "outputs": [
    {
     "data": {
      "text/plain": [
       "array([[7391,  468],\n",
       "       [   5, 8105]], dtype=int64)"
      ]
     },
     "execution_count": 45,
     "metadata": {},
     "output_type": "execute_result"
    }
   ],
   "source": [
    "cm=confusion_matrix(y_test,y_predicted2)\n",
    "cm"
   ]
  },
  {
   "cell_type": "code",
   "execution_count": 46,
   "id": "d87abc5a",
   "metadata": {},
   "outputs": [
    {
     "data": {
      "text/plain": [
       "<AxesSubplot:>"
      ]
     },
     "execution_count": 46,
     "metadata": {},
     "output_type": "execute_result"
    },
    {
     "data": {
      "image/png": "[encoded data removed]",
      "text/plain": [
       "<Figure size 432x288 with 2 Axes>"
      ]
     },
     "metadata": {
      "needs_background": "light"
     },
     "output_type": "display_data"
    }
   ],
   "source": [
    "sns.heatmap(cm,annot=True)"
   ]
  },
  {
   "cell_type": "code",
   "execution_count": 47,
   "id": "0183244f",
   "metadata": {},
   "outputs": [
    {
     "name": "stdout",
     "output_type": "stream",
     "text": [
      "classification report               precision    recall  f1-score   support\n",
      "\n",
      "           1       1.00      0.94      0.97      7859\n",
      "           2       0.95      1.00      0.97      8110\n",
      "\n",
      "    accuracy                           0.97     15969\n",
      "   macro avg       0.97      0.97      0.97     15969\n",
      "weighted avg       0.97      0.97      0.97     15969\n",
      "\n"
     ]
    }
   ],
   "source": [
    "print('classification report',classification_report(y_test,y_predicted2))"
   ]
  },
  {
   "cell_type": "markdown",
   "id": "14ae7539",
   "metadata": {},
   "source": [
    "# Decision Tree Classifier"
   ]
  },
  {
   "cell_type": "code",
   "execution_count": 48,
   "id": "ff17b7ea",
   "metadata": {},
   "outputs": [
    {
     "data": {
      "text/plain": [
       "DecisionTreeClassifier()"
      ]
     },
     "execution_count": 48,
     "metadata": {},
     "output_type": "execute_result"
    }
   ],
   "source": [
    "from sklearn.tree import DecisionTreeClassifier\n",
    "model3=DecisionTreeClassifier(criterion='gini')\n",
    "model3.fit(X_train,y_train)"
   ]
  },
  {
   "cell_type": "code",
   "execution_count": 49,
   "id": "1b9f4a9b",
   "metadata": {},
   "outputs": [
    {
     "name": "stdout",
     "output_type": "stream",
     "text": [
      "accuracy score 0.963116037322312\n"
     ]
    }
   ],
   "source": [
    "y_predicted3=model3.predict(X_test)\n",
    "print('accuracy score',accuracy_score(y_test,y_predicted3))"
   ]
  },
  {
   "cell_type": "code",
   "execution_count": 50,
   "id": "afe839e0",
   "metadata": {},
   "outputs": [
    {
     "name": "stdout",
     "output_type": "stream",
     "text": [
      "accuracy score 0.963116037322312\n"
     ]
    }
   ],
   "source": [
    "y_predicted3=model3.predict(X_test)\n",
    "print('accuracy score',accuracy_score(y_test,y_predicted3))"
   ]
  },
  {
   "cell_type": "code",
   "execution_count": 51,
   "id": "20ba2b77",
   "metadata": {},
   "outputs": [
    {
     "data": {
      "text/plain": [
       "<AxesSubplot:>"
      ]
     },
     "execution_count": 51,
     "metadata": {},
     "output_type": "execute_result"
    },
    {
     "data": {
      "image/png": "[encoded data removed]",
      "text/plain": [
       "<Figure size 432x288 with 2 Axes>"
      ]
     },
     "metadata": {
      "needs_background": "light"
     },
     "output_type": "display_data"
    }
   ],
   "source": [
    "sns.heatmap(cm,annot=True)"
   ]
  },
  {
   "cell_type": "code",
   "execution_count": 52,
   "id": "b7e49d67",
   "metadata": {},
   "outputs": [
    {
     "name": "stdout",
     "output_type": "stream",
     "text": [
      "classification report               precision    recall  f1-score   support\n",
      "\n",
      "           1       1.00      0.93      0.96      7859\n",
      "           2       0.93      1.00      0.96      8110\n",
      "\n",
      "    accuracy                           0.96     15969\n",
      "   macro avg       0.97      0.96      0.96     15969\n",
      "weighted avg       0.97      0.96      0.96     15969\n",
      "\n"
     ]
    }
   ],
   "source": [
    "print('classification report',classification_report(y_test,y_predicted3))"
   ]
  },
  {
   "cell_type": "markdown",
   "id": "60fb3d2d",
   "metadata": {},
   "source": [
    "# Random Forest Classifier has maximum accuracy 97%."
   ]
  },
  {
   "cell_type": "code",
   "execution_count": null,
   "id": "100e794a",
   "metadata": {},
   "outputs": [],
   "source": []
  }
 ],
 "metadata": {
  "kernelspec": {
   "display_name": "Python 3 (ipykernel)",
   "language": "python",
   "name": "python3"
  },
  "language_info": {
   "codemirror_mode": {
    "name": "ipython",
    "version": 3
   },
   "file_extension": ".py",
   "mimetype": "text/x-python",
   "name": "python",
   "nbconvert_exporter": "python",
   "pygments_lexer": "ipython3",
   "version": "3.9.7"
  }
 },
 "nbformat": 4,
 "nbformat_minor": 5
}
